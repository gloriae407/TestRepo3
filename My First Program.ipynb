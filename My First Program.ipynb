{
 "cells": [
  {
   "cell_type": "markdown",
   "id": "53400661-3d81-4c4f-86f6-9a21ba48f9f8",
   "metadata": {},
   "source": [
    "# My first Program"
   ]
  },
  {
   "cell_type": "code",
   "execution_count": 1,
   "id": "592a11a6-23a0-4a03-8bd6-ed00fdd983af",
   "metadata": {},
   "outputs": [
    {
     "data": {
      "text/plain": [
       "2"
      ]
     },
     "execution_count": 1,
     "metadata": {},
     "output_type": "execute_result"
    }
   ],
   "source": [
    "1+1"
   ]
  },
  {
   "cell_type": "code",
   "execution_count": 2,
   "id": "897675b5-4f4e-4435-a0cf-b9a21a4c4530",
   "metadata": {},
   "outputs": [],
   "source": [
    "x=min(5,10,25)"
   ]
  },
  {
   "cell_type": "code",
   "execution_count": 3,
   "id": "4de7753d-efe4-417f-b234-7180aa816d32",
   "metadata": {},
   "outputs": [],
   "source": [
    "y=max(5,10,25)"
   ]
  },
  {
   "cell_type": "code",
   "execution_count": 4,
   "id": "730a906c-9351-4b1a-9c84-f40572aabd3b",
   "metadata": {},
   "outputs": [
    {
     "name": "stdout",
     "output_type": "stream",
     "text": [
      "5\n"
     ]
    }
   ],
   "source": [
    "print(x)"
   ]
  },
  {
   "cell_type": "code",
   "execution_count": 5,
   "id": "8117d930-412d-4ddb-a041-7f510e9c443f",
   "metadata": {},
   "outputs": [
    {
     "name": "stdout",
     "output_type": "stream",
     "text": [
      "25\n"
     ]
    }
   ],
   "source": [
    "print(y)"
   ]
  },
  {
   "cell_type": "code",
   "execution_count": 6,
   "id": "15b662b2-89b5-40eb-bf80-31d04e660784",
   "metadata": {},
   "outputs": [
    {
     "name": "stdout",
     "output_type": "stream",
     "text": [
      "5\n",
      "25\n"
     ]
    }
   ],
   "source": [
    "x=min(5,10,25)\n",
    "y=max(5,10,25)\n",
    "print(x)\n",
    "print(y)"
   ]
  },
  {
   "cell_type": "code",
   "execution_count": 7,
   "id": "300bd678-c6a0-481f-ae89-e2bd98501159",
   "metadata": {},
   "outputs": [
    {
     "name": "stdout",
     "output_type": "stream",
     "text": [
      "64\n"
     ]
    }
   ],
   "source": [
    "x=pow(4,3)\n",
    "print(x)"
   ]
  },
  {
   "cell_type": "code",
   "execution_count": 1,
   "id": "0e678846-ba8b-4a4e-bd16-a879bfc20a4f",
   "metadata": {},
   "outputs": [
    {
     "data": {
      "text/plain": [
       "6"
      ]
     },
     "execution_count": 1,
     "metadata": {},
     "output_type": "execute_result"
    }
   ],
   "source": [
    "2 * 3 # Multiplication"
   ]
  },
  {
   "cell_type": "code",
   "execution_count": 3,
   "id": "411e9dab-0a22-4bdc-bf0a-f4b0b4decd80",
   "metadata": {},
   "outputs": [
    {
     "data": {
      "text/plain": [
       "3"
      ]
     },
     "execution_count": 3,
     "metadata": {},
     "output_type": "execute_result"
    }
   ],
   "source": [
    "4 - 1 # Subtraction"
   ]
  },
  {
   "cell_type": "code",
   "execution_count": 11,
   "id": "be61cb9f-5e36-4702-a022-7c7a4c1da42a",
   "metadata": {},
   "outputs": [
    {
     "data": {
      "text/plain": [
       "3"
      ]
     },
     "execution_count": 11,
     "metadata": {},
     "output_type": "execute_result"
    }
   ],
   "source": [
    "a = 1 # Assigning 1 to the variable called a\n",
    "a + 2 # Adding 2"
   ]
  },
  {
   "cell_type": "code",
   "execution_count": 13,
   "id": "9425eccc-909a-428b-bbd2-52dbcb8f3f1e",
   "metadata": {},
   "outputs": [
    {
     "ename": "NameError",
     "evalue": "name 'data' is not defined",
     "output_type": "error",
     "traceback": [
      "\u001b[0;31m---------------------------------------------------------------------------\u001b[0m",
      "\u001b[0;31mNameError\u001b[0m                                 Traceback (most recent call last)",
      "Cell \u001b[0;32mIn[13], line 1\u001b[0m\n\u001b[0;32m----> 1\u001b[0m df \u001b[38;5;241m=\u001b[39m data\u001b[38;5;241m.\u001b[39mframe(Emp_Name \u001b[38;5;241m=\u001b[39m c(\u001b[38;5;124m\"\u001b[39m\u001b[38;5;124mJai\u001b[39m\u001b[38;5;124m\"\u001b[39m, \u001b[38;5;124m\"\u001b[39m\u001b[38;5;124mDavid\u001b[39m\u001b[38;5;124m\"\u001b[39m, \u001b[38;5;124m\"\u001b[39m\u001b[38;5;124mMichael\u001b[39m\u001b[38;5;124m\"\u001b[39m),\n\u001b[1;32m      2\u001b[0m                 Job_role \u001b[38;5;241m=\u001b[39m c(\u001b[38;5;124m\"\u001b[39m\u001b[38;5;124mManager\u001b[39m\u001b[38;5;124m\"\u001b[39m, \u001b[38;5;124m\"\u001b[39m\u001b[38;5;124mTeam Lead\u001b[39m\u001b[38;5;124m\"\u001b[39m, \u001b[38;5;124m\"\u001b[39m\u001b[38;5;124mDeveloper\u001b[39m\u001b[38;5;124m\"\u001b[39m )\n\u001b[1;32m      3\u001b[0m                )\n\u001b[1;32m      4\u001b[0m \u001b[38;5;28mprint\u001b[39m(df)\n",
      "\u001b[0;31mNameError\u001b[0m: name 'data' is not defined"
     ]
    }
   ],
   "source": [
    "df = data.frame(Emp_Name = c(\"Jai\", \"David\", \"Michael\"),\n",
    "                Job_role = c(\"Manager\", \"Team Lead\", \"Developer\" )\n",
    "               )\n",
    "print(df)"
   ]
  },
  {
   "cell_type": "code",
   "execution_count": null,
   "id": "aed9467f-5381-4e94-9221-1448119ef38a",
   "metadata": {},
   "outputs": [],
   "source": []
  }
 ],
 "metadata": {
  "kernelspec": {
   "display_name": "Python [conda env:base] *",
   "language": "python",
   "name": "conda-base-py"
  },
  "language_info": {
   "codemirror_mode": {
    "name": "ipython",
    "version": 3
   },
   "file_extension": ".py",
   "mimetype": "text/x-python",
   "name": "python",
   "nbconvert_exporter": "python",
   "pygments_lexer": "ipython3",
   "version": "3.12.7"
  }
 },
 "nbformat": 4,
 "nbformat_minor": 5
}
